{
 "cells": [
  {
   "cell_type": "markdown",
   "metadata": {
    "colab_type": "text",
    "id": "A3p6NNfXUNuG"
   },
   "source": [
    "<h1> Analysis of pretrained models ResNet50 and VGG16 by building classifiers for identifying faults in buildings."
   ]
  },
  {
   "cell_type": "code",
   "execution_count": 0,
   "metadata": {
    "colab": {},
    "colab_type": "code",
    "id": "HzrGWbodWl06"
   },
   "outputs": [],
   "source": [
    "#connect to your google drive\n",
    "#from google.colab import drive \n",
    "#drive.mount('/content/gdrive')"
   ]
  },
  {
   "cell_type": "code",
   "execution_count": 0,
   "metadata": {
    "colab": {},
    "colab_type": "code",
    "id": "tGvb3Zh_VGOn"
   },
   "outputs": [],
   "source": [
    "#get dataset and unzip dataset\n",
    "!wget https://s3-api.us-geo.objectstorage.softlayer.net/cf-courses-data/CognitiveClass/DL0321EN/data/concrete_data_week4.zip\n",
    "!unzip concrete_data_week4.zip"
   ]
  },
  {
   "cell_type": "code",
   "execution_count": 0,
   "metadata": {
    "colab": {
     "base_uri": "https://localhost:8080/",
     "height": 34
    },
    "colab_type": "code",
    "id": "m0f84YqdVVh_",
    "outputId": "4bfc743b-58fe-4e6c-d509-9968e027a02d"
   },
   "outputs": [
    {
     "name": "stderr",
     "output_type": "stream",
     "text": [
      "Using TensorFlow backend.\n"
     ]
    }
   ],
   "source": [
    "#import modules\n",
    "import keras\n",
    "from keras.models import Sequential\n",
    "from keras.layers import Dense\n",
    "\n",
    "from keras.preprocessing.image import ImageDataGenerator\n",
    "\n",
    "from keras.applications import VGG16\n",
    "from keras.applications.vgg16 import preprocess_input as preprocess_resnet\n",
    "\n",
    "from keras.applications import ResNet50\n",
    "from keras.applications.resnet50 import preprocess_input as preprocess_vgg16\n",
    "\n",
    "from keras.models import load_model"
   ]
  },
  {
   "cell_type": "code",
   "execution_count": 0,
   "metadata": {
    "colab": {},
    "colab_type": "code",
    "id": "-7fxYUknVljd"
   },
   "outputs": [],
   "source": [
    "#define constants\n",
    "num_classes = 2\n",
    "image_resize = 224\n",
    "batch_size_training = 100\n",
    "batch_size_validation = 100"
   ]
  },
  {
   "cell_type": "markdown",
   "metadata": {
    "colab_type": "text",
    "id": "oxvWFI7CV9O_"
   },
   "source": [
    "<h2> Modifying ResNet Pretrained Model</h2>"
   ]
  },
  {
   "cell_type": "code",
   "execution_count": 0,
   "metadata": {
    "colab": {},
    "colab_type": "code",
    "id": "M2Z6U4eyVoRw"
   },
   "outputs": [],
   "source": [
    "#create imagedatagenerator\n",
    "data_generator_resnet = ImageDataGenerator(preprocessing_function = preprocess_resnet)"
   ]
  },
  {
   "cell_type": "code",
   "execution_count": 0,
   "metadata": {
    "colab": {
     "base_uri": "https://localhost:8080/",
     "height": 52
    },
    "colab_type": "code",
    "id": "T_q_dJ3EV0QG",
    "outputId": "682f1bd6-91ae-438a-8f99-88720ccf5000"
   },
   "outputs": [
    {
     "name": "stdout",
     "output_type": "stream",
     "text": [
      "Found 30001 images belonging to 2 classes.\n",
      "Found 9501 images belonging to 2 classes.\n"
     ]
    }
   ],
   "source": [
    "#create generator for train and validation dataset\n",
    "train_generator = data_generator_resnet.flow_from_directory(\n",
    "    'concrete_data_week4/train',\n",
    "    target_size=(image_resize, image_resize),\n",
    "    batch_size=batch_size_training,\n",
    "    class_mode='categorical')\n",
    "\n",
    "validation_generator = data_generator_resnet.flow_from_directory(\n",
    "    'concrete_data_week4/valid',\n",
    "    target_size = (image_resize, image_resize),\n",
    "    batch_size = 100,\n",
    "    class_mode = 'categorical'  \n",
    ")"
   ]
  },
  {
   "cell_type": "code",
   "execution_count": 0,
   "metadata": {
    "colab": {},
    "colab_type": "code",
    "id": "v1gWcJuoWIjC"
   },
   "outputs": [],
   "source": [
    "#modify the resnet50 pretrained model\n",
    "model = Sequential()\n",
    "\n",
    "model.add(ResNet50(\n",
    "    include_top=False,\n",
    "    pooling='avg',\n",
    "    weights='imagenet',\n",
    "    ))\n",
    "model.add(Dense(num_classes, activation='softmax'))\n",
    "\n",
    "model.layers[0].trainable = False"
   ]
  },
  {
   "cell_type": "code",
   "execution_count": 0,
   "metadata": {
    "colab": {
     "base_uri": "https://localhost:8080/",
     "height": 228
    },
    "colab_type": "code",
    "id": "POsB-8bPWSw7",
    "outputId": "11b9210e-908f-4e6b-851d-052c0e5af3b7"
   },
   "outputs": [
    {
     "name": "stdout",
     "output_type": "stream",
     "text": [
      "Model: \"sequential_2\"\n",
      "_________________________________________________________________\n",
      "Layer (type)                 Output Shape              Param #   \n",
      "=================================================================\n",
      "resnet50 (Model)             (None, 2048)              23587712  \n",
      "_________________________________________________________________\n",
      "dense_2 (Dense)              (None, 2)                 4098      \n",
      "=================================================================\n",
      "Total params: 23,591,810\n",
      "Trainable params: 4,098\n",
      "Non-trainable params: 23,587,712\n",
      "_________________________________________________________________\n"
     ]
    }
   ],
   "source": [
    "#view model summary\n",
    "model.summary()"
   ]
  },
  {
   "cell_type": "code",
   "execution_count": 0,
   "metadata": {
    "colab": {},
    "colab_type": "code",
    "id": "BqbmCLadWTc2"
   },
   "outputs": [],
   "source": [
    "#compile the model\n",
    "model.compile(optimizer='adam', loss='categorical_crossentropy', metrics=['accuracy'])"
   ]
  },
  {
   "cell_type": "code",
   "execution_count": 0,
   "metadata": {
    "colab": {},
    "colab_type": "code",
    "id": "f7UgbGKhYtle"
   },
   "outputs": [],
   "source": [
    "#parameters for fitting generator\n",
    "steps_per_epoch_training = len(train_generator)\n",
    "steps_per_epoch_validation = len(validation_generator)\n",
    "num_epochs = 2"
   ]
  },
  {
   "cell_type": "code",
   "execution_count": 0,
   "metadata": {
    "colab": {
     "base_uri": "https://localhost:8080/",
     "height": 107
    },
    "colab_type": "code",
    "id": "DWYrr9mPWVsC",
    "outputId": "27a8423a-b44d-407a-ee91-cf5a3f5677a1"
   },
   "outputs": [
    {
     "name": "stdout",
     "output_type": "stream",
     "text": [
      "Epoch 1/2\n",
      "301/301 [==============================] - 129s 429ms/step - loss: 0.0363 - accuracy: 0.9893 - val_loss: 0.0016 - val_accuracy: 0.8873\n",
      "Epoch 2/2\n",
      "301/301 [==============================] - 115s 384ms/step - loss: 0.0162 - accuracy: 0.9959 - val_loss: 8.5231e-05 - val_accuracy: 0.9084\n"
     ]
    }
   ],
   "source": [
    "#fit the generator to model\n",
    "fit_history = model.fit_generator(\n",
    "    train_generator,\n",
    "    steps_per_epoch=steps_per_epoch_training,\n",
    "    epochs=num_epochs,\n",
    "    validation_data=validation_generator,\n",
    "    validation_steps=steps_per_epoch_validation,\n",
    "    verbose=1,\n",
    ")"
   ]
  },
  {
   "cell_type": "code",
   "execution_count": 0,
   "metadata": {
    "colab": {},
    "colab_type": "code",
    "id": "e9qCNu0aWg5l"
   },
   "outputs": [],
   "source": [
    "#ave the model\n",
    "model.save('classifier_resnet_model.h5')\n",
    "#save model to google drive\n",
    "#model.save('/content/gdrive/My Drive/keras_models/classifier_resnet_model.h5')"
   ]
  },
  {
   "cell_type": "markdown",
   "metadata": {
    "colab_type": "text",
    "id": "K9oqBUUXX1Jp"
   },
   "source": [
    "<h2> Modifying VGG16 model<h2>"
   ]
  },
  {
   "cell_type": "code",
   "execution_count": 0,
   "metadata": {
    "colab": {},
    "colab_type": "code",
    "id": "Atr-XJ8DX40P"
   },
   "outputs": [],
   "source": [
    "#create imagedatagenerator\n",
    "data_generator_vgg16 = ImageDataGenerator(preprocessing_function = preprocess_vgg16)"
   ]
  },
  {
   "cell_type": "code",
   "execution_count": 0,
   "metadata": {
    "colab": {
     "base_uri": "https://localhost:8080/",
     "height": 52
    },
    "colab_type": "code",
    "id": "-q_UNPjJYP1v",
    "outputId": "28c3e0a8-e0f7-4b73-820f-0657d9e91f0a"
   },
   "outputs": [
    {
     "name": "stdout",
     "output_type": "stream",
     "text": [
      "Found 30001 images belonging to 2 classes.\n",
      "Found 9501 images belonging to 2 classes.\n"
     ]
    }
   ],
   "source": [
    "#create a training data generator\n",
    "train_generator = data_generator_vgg16.flow_from_directory(\n",
    "    'concrete_data_week4/train',\n",
    "    target_size = (image_resize, image_resize),\n",
    "    batch_size = batch_size_training,\n",
    "    class_mode = 'categorical'\n",
    ")\n",
    "\n",
    "#create a validation data generator\n",
    "validation_generator = data_generator_vgg16.flow_from_directory(\n",
    "    'concrete_data_week4/valid',\n",
    "    target_size = (image_resize, image_resize),\n",
    "    batch_size = batch_size_validation,\n",
    "    class_mode = 'categorical'\n",
    ")"
   ]
  },
  {
   "cell_type": "code",
   "execution_count": 0,
   "metadata": {
    "colab": {
     "base_uri": "https://localhost:8080/",
     "height": 72
    },
    "colab_type": "code",
    "id": "1BRC5ioGYX9d",
    "outputId": "6d0e6c57-a142-4b33-b35b-6d487926b150"
   },
   "outputs": [
    {
     "name": "stdout",
     "output_type": "stream",
     "text": [
      "Downloading data from https://github.com/fchollet/deep-learning-models/releases/download/v0.1/vgg16_weights_tf_dim_ordering_tf_kernels_notop.h5\n",
      "58892288/58889256 [==============================] - 5s 0us/step\n"
     ]
    }
   ],
   "source": [
    "#modify pretrained model\n",
    "model2 = Sequential()\n",
    "\n",
    "model2.add(VGG16(\n",
    "    include_top = False,\n",
    "    pooling = 'avg',\n",
    "    weights = 'imagenet'\n",
    "))\n",
    "\n",
    "model2.add(Dense(num_classes, activation = 'softmax'))\n",
    "\n",
    "model2.layers[0].trainable = False"
   ]
  },
  {
   "cell_type": "code",
   "execution_count": 0,
   "metadata": {
    "colab": {
     "base_uri": "https://localhost:8080/",
     "height": 228
    },
    "colab_type": "code",
    "id": "dXtDsk_UYekC",
    "outputId": "6741217d-9654-46ce-e4e1-d6837834b4a6"
   },
   "outputs": [
    {
     "name": "stdout",
     "output_type": "stream",
     "text": [
      "Model: \"sequential_3\"\n",
      "_________________________________________________________________\n",
      "Layer (type)                 Output Shape              Param #   \n",
      "=================================================================\n",
      "vgg16 (Model)                (None, 512)               14714688  \n",
      "_________________________________________________________________\n",
      "dense_3 (Dense)              (None, 2)                 1026      \n",
      "=================================================================\n",
      "Total params: 14,715,714\n",
      "Trainable params: 1,026\n",
      "Non-trainable params: 14,714,688\n",
      "_________________________________________________________________\n"
     ]
    }
   ],
   "source": [
    "model2.summary()"
   ]
  },
  {
   "cell_type": "code",
   "execution_count": 0,
   "metadata": {
    "colab": {},
    "colab_type": "code",
    "id": "uNK1PJlDYhsp"
   },
   "outputs": [],
   "source": [
    "#compile the model\n",
    "model2.compile(\n",
    "    optimizer = 'adam',\n",
    "    loss = 'categorical_crossentropy',\n",
    "    metrics = ['accuracy']\n",
    ")"
   ]
  },
  {
   "cell_type": "code",
   "execution_count": 0,
   "metadata": {
    "colab": {},
    "colab_type": "code",
    "id": "7kG5blE9Yp45"
   },
   "outputs": [],
   "source": [
    "#initialize epochs and steps\n",
    "steps_per_epoch_training = len(train_generator)\n",
    "steps_per_epoch_validation = len(validation_generator)\n",
    "num_epochs = 2"
   ]
  },
  {
   "cell_type": "code",
   "execution_count": 0,
   "metadata": {
    "colab": {
     "base_uri": "https://localhost:8080/",
     "height": 107
    },
    "colab_type": "code",
    "id": "DvYCC2JcYzwP",
    "outputId": "517d2fa3-ac6d-47d7-892b-412a4710a892"
   },
   "outputs": [
    {
     "name": "stdout",
     "output_type": "stream",
     "text": [
      "Epoch 1/2\n",
      "301/301 [==============================] - 115s 381ms/step - loss: 0.1377 - accuracy: 0.9467 - val_loss: 0.0159 - val_accuracy: 0.9914\n",
      "Epoch 2/2\n",
      "301/301 [==============================] - 110s 367ms/step - loss: 0.0247 - accuracy: 0.9937 - val_loss: 4.7684e-07 - val_accuracy: 0.9953\n"
     ]
    }
   ],
   "source": [
    "#fit the generator to model\n",
    "fit_history2 = model2.fit_generator(\n",
    "    train_generator,\n",
    "    steps_per_epoch = steps_per_epoch_training,\n",
    "    epochs = num_epochs,\n",
    "    validation_data = validation_generator,\n",
    "    validation_steps = steps_per_epoch_validation\n",
    ")"
   ]
  },
  {
   "cell_type": "code",
   "execution_count": 0,
   "metadata": {
    "colab": {},
    "colab_type": "code",
    "id": "uy224rT0Y9UG"
   },
   "outputs": [],
   "source": [
    "#save model locally\n",
    "model2.save('classifier_vgg16_model.h5')\n",
    "#save model to drive\n",
    "#model2.save('/content/gdrive/My Drive/keras_models/classifier_vgg16_model.h5')"
   ]
  },
  {
   "cell_type": "code",
   "execution_count": 0,
   "metadata": {
    "colab": {},
    "colab_type": "code",
    "id": "S1xvmgcUZJaX"
   },
   "outputs": [],
   "source": [
    "#to copy from drive\n",
    "#!cp /content/gdrive/My\\ Drive/keras_models/classifier_resnet_model.h5 ./classifier_resnet_model.h5"
   ]
  },
  {
   "cell_type": "markdown",
   "metadata": {
    "colab_type": "text",
    "id": "ZhIR2rKvZOx9"
   },
   "source": [
    "<h2>Testing resnet50 model</h2>"
   ]
  },
  {
   "cell_type": "code",
   "execution_count": 0,
   "metadata": {
    "colab": {
     "base_uri": "https://localhost:8080/",
     "height": 34
    },
    "colab_type": "code",
    "id": "CflmxrbkZTwA",
    "outputId": "5974a6cb-6953-490b-b421-e926329ff5b9"
   },
   "outputs": [
    {
     "name": "stdout",
     "output_type": "stream",
     "text": [
      "Found 500 images belonging to 2 classes.\n"
     ]
    }
   ],
   "source": [
    "#create a test data generator\n",
    "data_generator = ImageDataGenerator()\n",
    "\n",
    "test_generator = data_generator.flow_from_directory(\n",
    "    'concrete_data_week4/test',\n",
    "    target_size = (image_resize, image_resize),\n",
    "    shuffle = False\n",
    ")"
   ]
  },
  {
   "cell_type": "code",
   "execution_count": 0,
   "metadata": {
    "colab": {
     "base_uri": "https://localhost:8080/",
     "height": 72
    },
    "colab_type": "code",
    "id": "nbYjhOq1aTt_",
    "outputId": "c167fcc7-ca4a-4e97-ff14-5eb94279a7c2"
   },
   "outputs": [
    {
     "name": "stderr",
     "output_type": "stream",
     "text": [
      "/usr/local/lib/python3.6/dist-packages/keras/engine/saving.py:384: UserWarning: Error in loading the saved optimizer state. As a result, your model is starting with a freshly initialized optimizer.\n",
      "  warnings.warn('Error in loading the saved optimizer '\n"
     ]
    }
   ],
   "source": [
    "model_resnet = load_model('classifier_resnet_model.h5')"
   ]
  },
  {
   "cell_type": "code",
   "execution_count": 0,
   "metadata": {
    "colab": {
     "base_uri": "https://localhost:8080/",
     "height": 34
    },
    "colab_type": "code",
    "id": "sV1ECnWhaUQU",
    "outputId": "b3d61a13-6f3c-4316-ae25-e6ffc686ea59"
   },
   "outputs": [
    {
     "name": "stdout",
     "output_type": "stream",
     "text": [
      "16/16 [==============================] - 2s 111ms/step\n"
     ]
    }
   ],
   "source": [
    "#evaluate resnet model\n",
    "eval_resnet = model_resnet.evaluate_generator(\n",
    "    test_generator, \n",
    "    steps=None, \n",
    "    callbacks=None,\n",
    "    max_queue_size=10,\n",
    "    workers=1,\n",
    "    use_multiprocessing=False,\n",
    "    verbose=1)"
   ]
  },
  {
   "cell_type": "code",
   "execution_count": 0,
   "metadata": {
    "colab": {
     "base_uri": "https://localhost:8080/",
     "height": 70
    },
    "colab_type": "code",
    "id": "UIFIEZ1zayNP",
    "outputId": "a98bcc7e-f0df-4d4d-977c-dac57be3bba8"
   },
   "outputs": [
    {
     "name": "stdout",
     "output_type": "stream",
     "text": [
      "Resnet50 model performance:\n",
      "loss for test dataset is : 2.5136446952819824\n",
      "accuracy for test dataset is : 0.5899999737739563\n"
     ]
    }
   ],
   "source": [
    "print('Resnet50 model performance:')\n",
    "print('loss for test dataset is : {}'.format(eval_resnet[0]))\n",
    "print('accuracy for test dataset is : {}'.format(eval_resnet[1]))"
   ]
  },
  {
   "cell_type": "code",
   "execution_count": 0,
   "metadata": {
    "colab": {
     "base_uri": "https://localhost:8080/",
     "height": 34
    },
    "colab_type": "code",
    "id": "dPOZAx7waXtj",
    "outputId": "ec90b5d4-a677-4d84-fc7a-7c5d8b7dd8e1"
   },
   "outputs": [
    {
     "name": "stdout",
     "output_type": "stream",
     "text": [
      "16/16 [==============================] - 3s 206ms/step\n"
     ]
    }
   ],
   "source": [
    "#predict using resnet model\n",
    "predict_resnet = model_resnet.predict_generator(\n",
    "    test_generator, \n",
    "    steps=None, \n",
    "    callbacks=None, \n",
    "    max_queue_size=10, \n",
    "    workers=1, \n",
    "    use_multiprocessing=False, \n",
    "    verbose=1)"
   ]
  },
  {
   "cell_type": "code",
   "execution_count": 0,
   "metadata": {
    "colab": {
     "base_uri": "https://localhost:8080/",
     "height": 175
    },
    "colab_type": "code",
    "id": "kLYk5bpSafqV",
    "outputId": "49b4ecce-fe2b-4d93-97e1-71d7aafb2e90"
   },
   "outputs": [
    {
     "name": "stdout",
     "output_type": "stream",
     "text": [
      "PRDICTION FOR RESNET\n",
      "Positive\n",
      "Positive\n",
      "Positive\n",
      "Positive\n",
      "Positive\n",
      "\n",
      "Total positives: 455\n",
      "Total negatives: 45\n"
     ]
    }
   ],
   "source": [
    "resnet_predict_arr = []\n",
    "\n",
    "for i in predict_resnet:\n",
    "  if int(round(i[0])) == 1:\n",
    "    resnet_predict_arr.append('Positive')\n",
    "  else:\n",
    "    resnet_predict_arr.append('Negative')\n",
    "\n",
    "print('PRDICTION FOR RESNET')\n",
    "\n",
    "for i in resnet_predict_arr[0:5]:\n",
    "  print(i)\n",
    "\n",
    "print()\n",
    "print('Total positives: {}'.format(resnet_predict_arr.count('Positive')))\n",
    "print('Total negatives: {}'.format(resnet_predict_arr.count('Negative')))"
   ]
  },
  {
   "cell_type": "markdown",
   "metadata": {
    "colab_type": "text",
    "id": "DLji4g_Vai_0"
   },
   "source": [
    "<h2>Testing VGG16 model</h2>"
   ]
  },
  {
   "cell_type": "code",
   "execution_count": 0,
   "metadata": {
    "colab": {
     "base_uri": "https://localhost:8080/",
     "height": 72
    },
    "colab_type": "code",
    "id": "MasJ43Nna-We",
    "outputId": "f4176294-cf02-47f8-d9ea-ef51bbb01704"
   },
   "outputs": [
    {
     "name": "stderr",
     "output_type": "stream",
     "text": [
      "/usr/local/lib/python3.6/dist-packages/keras/engine/saving.py:384: UserWarning: Error in loading the saved optimizer state. As a result, your model is starting with a freshly initialized optimizer.\n",
      "  warnings.warn('Error in loading the saved optimizer '\n"
     ]
    }
   ],
   "source": [
    "model_vgg16 = load_model('classifier_vgg16_model.h5')"
   ]
  },
  {
   "cell_type": "code",
   "execution_count": 0,
   "metadata": {
    "colab": {
     "base_uri": "https://localhost:8080/",
     "height": 34
    },
    "colab_type": "code",
    "id": "bqeiGu16ar1q",
    "outputId": "8b371bc3-9f48-42d5-dcba-c004d75d7b07"
   },
   "outputs": [
    {
     "name": "stdout",
     "output_type": "stream",
     "text": [
      "16/16 [==============================] - 3s 160ms/step\n"
     ]
    }
   ],
   "source": [
    "#evaluate vgg16 model\n",
    "eval_vgg16 = model_vgg16.evaluate_generator(\n",
    "    test_generator, \n",
    "    steps=None, \n",
    "    callbacks=None,\n",
    "    max_queue_size=10,\n",
    "    workers=1,\n",
    "    use_multiprocessing=False,\n",
    "    verbose=1)"
   ]
  },
  {
   "cell_type": "code",
   "execution_count": 0,
   "metadata": {
    "colab": {
     "base_uri": "https://localhost:8080/",
     "height": 70
    },
    "colab_type": "code",
    "id": "x8fhRFrOavKw",
    "outputId": "40e9d331-336e-4eca-b650-05dfdc1546d7"
   },
   "outputs": [
    {
     "name": "stdout",
     "output_type": "stream",
     "text": [
      "VGG16 model performance:\n",
      "loss for test dataset is : 0.2777916193008423\n",
      "accuracy for test dataset is : 0.9279999732971191\n"
     ]
    }
   ],
   "source": [
    "print('VGG16 model performance:')\n",
    "print('loss for test dataset is : {}'.format(eval_vgg16[0]))\n",
    "print('accuracy for test dataset is : {}'.format(eval_vgg16[1]))"
   ]
  },
  {
   "cell_type": "code",
   "execution_count": 0,
   "metadata": {
    "colab": {
     "base_uri": "https://localhost:8080/",
     "height": 34
    },
    "colab_type": "code",
    "id": "GXAXQiI4bCJG",
    "outputId": "8ba3d52f-b0d0-4bb3-ea89-839b76dfed38"
   },
   "outputs": [
    {
     "name": "stdout",
     "output_type": "stream",
     "text": [
      "16/16 [==============================] - 1s 87ms/step\n"
     ]
    }
   ],
   "source": [
    "#predict using vgg16 model\n",
    "\n",
    "predict_vgg16 = model_vgg16.predict_generator(\n",
    "    test_generator, \n",
    "    steps=None, \n",
    "    callbacks=None, \n",
    "    max_queue_size=10, \n",
    "    workers=1, \n",
    "    use_multiprocessing=False, \n",
    "    verbose=1)"
   ]
  },
  {
   "cell_type": "code",
   "execution_count": 0,
   "metadata": {
    "colab": {
     "base_uri": "https://localhost:8080/",
     "height": 175
    },
    "colab_type": "code",
    "id": "Me0ssS6EbC-m",
    "outputId": "a1468946-54a9-457b-e787-a761f37b7de2"
   },
   "outputs": [
    {
     "name": "stdout",
     "output_type": "stream",
     "text": [
      "PRDICTION FOR VGG16\n",
      "Positive\n",
      "Positive\n",
      "Positive\n",
      "Positive\n",
      "Positive\n",
      "\n",
      "Total positives: 286\n",
      "Total negatives: 214\n"
     ]
    }
   ],
   "source": [
    "vgg16_predict_arr = []\n",
    "\n",
    "for i in predict_vgg16:\n",
    "  if int(round(i[0])) == 1:\n",
    "    vgg16_predict_arr.append('Positive')\n",
    "  else:\n",
    "    vgg16_predict_arr.append('Negative')\n",
    "\n",
    "print('PRDICTION FOR VGG16')\n",
    "\n",
    "for i in vgg16_predict_arr[0:5]:\n",
    "  print(i)\n",
    "\n",
    "print()\n",
    "print('Total positives: {}'.format(vgg16_predict_arr.count('Positive')))\n",
    "print('Total negatives: {}'.format(vgg16_predict_arr.count('Negative')))"
   ]
  },
  {
   "cell_type": "markdown",
   "metadata": {
    "colab_type": "text",
    "id": "D5IFGhVriNgs"
   },
   "source": [
    "<h2>In this specific case of classification, the VGG16 model performs far better than ResNet50 with test accuracy of 93% and 59% respectively.</h2>"
   ]
  }
 ],
 "metadata": {
  "colab": {
   "collapsed_sections": [],
   "name": "Pretrained model analysis.ipynb",
   "provenance": []
  },
  "kernelspec": {
   "display_name": "Python 3 (ipykernel)",
   "language": "python",
   "name": "python3"
  },
  "language_info": {
   "codemirror_mode": {
    "name": "ipython",
    "version": 3
   },
   "file_extension": ".py",
   "mimetype": "text/x-python",
   "name": "python",
   "nbconvert_exporter": "python",
   "pygments_lexer": "ipython3",
   "version": "3.9.12"
  }
 },
 "nbformat": 4,
 "nbformat_minor": 1
}
