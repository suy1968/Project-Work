{
 "cells": [
  {
   "cell_type": "code",
   "execution_count": 1,
   "metadata": {
    "colab": {
     "base_uri": "https://localhost:8080/"
    },
    "executionInfo": {
     "elapsed": 6531,
     "status": "ok",
     "timestamp": 1620025298907,
     "user": {
      "displayName": "RITIK KUMAR",
      "photoUrl": "",
      "userId": "06709832249065320148"
     },
     "user_tz": -330
    },
    "id": "BWoYSDa35B9C",
    "outputId": "17a0a601-248c-40a4-ef31-9483e7430473"
   },
   "outputs": [
    {
     "name": "stdout",
     "output_type": "stream",
     "text": [
      "--2021-05-03 07:01:33--  http://cb.lk/covid_19\n",
      "Resolving cb.lk (cb.lk)... 159.89.170.74\n",
      "Connecting to cb.lk (cb.lk)|159.89.170.74|:80... connected.\n",
      "HTTP request sent, awaiting response... 301 Moved Permanently\n",
      "Location: https://cb.lk/covid_19 [following]\n",
      "--2021-05-03 07:01:33--  https://cb.lk/covid_19\n",
      "Connecting to cb.lk (cb.lk)|159.89.170.74|:443... connected.\n",
      "HTTP request sent, awaiting response... 302 Found\n",
      "Location: https://www.dropbox.com/s/7rjw6oet4za01op/CovidDataset-20200427T133042Z-001.zip?dl=0 [following]\n",
      "--2021-05-03 07:01:34--  https://www.dropbox.com/s/7rjw6oet4za01op/CovidDataset-20200427T133042Z-001.zip?dl=0\n",
      "Resolving www.dropbox.com (www.dropbox.com)... 162.125.3.18, 2620:100:6018:18::a27d:312\n",
      "Connecting to www.dropbox.com (www.dropbox.com)|162.125.3.18|:443... connected.\n",
      "HTTP request sent, awaiting response... 301 Moved Permanently\n",
      "Location: /s/raw/7rjw6oet4za01op/CovidDataset-20200427T133042Z-001.zip [following]\n",
      "--2021-05-03 07:01:34--  https://www.dropbox.com/s/raw/7rjw6oet4za01op/CovidDataset-20200427T133042Z-001.zip\n",
      "Reusing existing connection to www.dropbox.com:443.\n",
      "HTTP request sent, awaiting response... 302 Found\n",
      "Location: https://ucb4381a11a405cdec748a1258ad.dl.dropboxusercontent.com/cd/0/inline/BNwLyq-5zNznfURfyT-IC8GgU5twHHKBXFbQXLyciLbgEqU1WKOR7j-qJynlGddNBBZ8D7SPrxYuSOlpRER71a7oUPn1Vw20-lH1Tw0bbRO6IU3UhMlsOFfwkneAURxB1B3x4AnK2au0C1Y_8Mk_ve9-/file# [following]\n",
      "--2021-05-03 07:01:35--  https://ucb4381a11a405cdec748a1258ad.dl.dropboxusercontent.com/cd/0/inline/BNwLyq-5zNznfURfyT-IC8GgU5twHHKBXFbQXLyciLbgEqU1WKOR7j-qJynlGddNBBZ8D7SPrxYuSOlpRER71a7oUPn1Vw20-lH1Tw0bbRO6IU3UhMlsOFfwkneAURxB1B3x4AnK2au0C1Y_8Mk_ve9-/file\n",
      "Resolving ucb4381a11a405cdec748a1258ad.dl.dropboxusercontent.com (ucb4381a11a405cdec748a1258ad.dl.dropboxusercontent.com)... 162.125.3.15, 2620:100:6018:15::a27d:30f\n",
      "Connecting to ucb4381a11a405cdec748a1258ad.dl.dropboxusercontent.com (ucb4381a11a405cdec748a1258ad.dl.dropboxusercontent.com)|162.125.3.15|:443... connected.\n",
      "HTTP request sent, awaiting response... 302 Found\n",
      "Location: /cd/0/inline2/BNyvg6xuGbQjDMsNSucepUnHAuO21kuys0NhTtxGnVbjKHi2-ogizeW-zTEN5SVAGOyvFfLzuup5wv1CG_NhFqj9PgIWeO4Lht2R-01-0fqKswDlQCUYkN8UFN5TBLJadENL0DSFUDY5tOGggakVTaD4wdquH-KxgeTnVwfi6pDAHZqxeoR-IsV0ZCXRKcVh908toCOUK4b4EecegruXWcu_AFMYPL2837mzymHsHyFeKIqkYpG9vHybwZnPouTMxWnqVMCR5XBOyCwQf1U6QIvFXMjm0Y3AwxSq52r1qz1f_WyffhrpMk2cQ9wqTP7Jp-tmu92oljWDlFNLzRLuBVycB0PmYFMVJ8CVrQBlPNJxQtjR8g06LJINAmlIuXubaYY/file [following]\n",
      "--2021-05-03 07:01:35--  https://ucb4381a11a405cdec748a1258ad.dl.dropboxusercontent.com/cd/0/inline2/BNyvg6xuGbQjDMsNSucepUnHAuO21kuys0NhTtxGnVbjKHi2-ogizeW-zTEN5SVAGOyvFfLzuup5wv1CG_NhFqj9PgIWeO4Lht2R-01-0fqKswDlQCUYkN8UFN5TBLJadENL0DSFUDY5tOGggakVTaD4wdquH-KxgeTnVwfi6pDAHZqxeoR-IsV0ZCXRKcVh908toCOUK4b4EecegruXWcu_AFMYPL2837mzymHsHyFeKIqkYpG9vHybwZnPouTMxWnqVMCR5XBOyCwQf1U6QIvFXMjm0Y3AwxSq52r1qz1f_WyffhrpMk2cQ9wqTP7Jp-tmu92oljWDlFNLzRLuBVycB0PmYFMVJ8CVrQBlPNJxQtjR8g06LJINAmlIuXubaYY/file\n",
      "Reusing existing connection to ucb4381a11a405cdec748a1258ad.dl.dropboxusercontent.com:443.\n",
      "HTTP request sent, awaiting response... 200 OK\n",
      "Length: 140830621 (134M) [application/zip]\n",
      "Saving to: ‘covid_19’\n",
      "\n",
      "covid_19            100%[===================>] 134.31M  93.6MB/s    in 1.4s    \n",
      "\n",
      "2021-05-03 07:01:37 (93.6 MB/s) - ‘covid_19’ saved [140830621/140830621]\n",
      "\n"
     ]
    }
   ],
   "source": [
    "!wget http://cb.lk/covid_19"
   ]
  },
  {
   "cell_type": "code",
   "execution_count": null,
   "metadata": {
    "colab": {
     "base_uri": "https://localhost:8080/"
    },
    "id": "0XX1nxbk5ND7",
    "outputId": "e96488f5-0407-4bff-f836-fb404964c026"
   },
   "outputs": [
    {
     "name": "stdout",
     "output_type": "stream",
     "text": [
      "Archive:  covid_19\n",
      "replace CovidDataset/Val/Covid/88de9d8c39e946abd495b37cd07d89e5-6531-0.jpg? [y]es, [n]o, [A]ll, [N]one, [r]ename: "
     ]
    }
   ],
   "source": [
    "!unzip covid_19"
   ]
  },
  {
   "cell_type": "code",
   "execution_count": 2,
   "metadata": {
    "executionInfo": {
     "elapsed": 898,
     "status": "ok",
     "timestamp": 1620025393096,
     "user": {
      "displayName": "RITIK KUMAR",
      "photoUrl": "",
      "userId": "06709832249065320148"
     },
     "user_tz": -330
    },
    "id": "fr6IYys25Zgn"
   },
   "outputs": [],
   "source": [
    "TRAIN_PATH='CovidDataset/Train'\n",
    "VAL_PATH='CovidDataset/Test'"
   ]
  },
  {
   "cell_type": "code",
   "execution_count": 3,
   "metadata": {
    "executionInfo": {
     "elapsed": 3350,
     "status": "ok",
     "timestamp": 1620025398001,
     "user": {
      "displayName": "RITIK KUMAR",
      "photoUrl": "",
      "userId": "06709832249065320148"
     },
     "user_tz": -330
    },
    "id": "o2BhU8G45sIT"
   },
   "outputs": [],
   "source": [
    "import numpy as np\n",
    "import matplotlib.pyplot as plt\n",
    "import keras\n",
    "from keras.layers import *\n",
    "from keras.models import *\n",
    "from keras.preprocessing import image"
   ]
  },
  {
   "cell_type": "code",
   "execution_count": 4,
   "metadata": {
    "executionInfo": {
     "elapsed": 967,
     "status": "ok",
     "timestamp": 1620025402651,
     "user": {
      "displayName": "RITIK KUMAR",
      "photoUrl": "",
      "userId": "06709832249065320148"
     },
     "user_tz": -330
    },
    "id": "3mBNBS7a5904"
   },
   "outputs": [],
   "source": [
    "model=Sequential()\n",
    "model.add(Conv2D(32,kernel_size=(3,3),activation='relu',input_shape=(224,224,3)))\n",
    "model.add(Conv2D(64,(3,3),activation='relu'))\n",
    "model.add(MaxPooling2D(pool_size=(2,2)))\n",
    "model.add(Dropout(0.25))\n",
    "model.add(Conv2D(64,(3,3),activation='relu'))\n",
    "model.add(MaxPooling2D(pool_size=(2,2)))\n",
    "model.add(Dropout(0.25))\n",
    "model.add(Conv2D(128,(3,3),activation='relu'))\n",
    "model.add(MaxPooling2D(pool_size=(2,2)))\n",
    "model.add(Dropout(0.25))\n"
   ]
  },
  {
   "cell_type": "code",
   "execution_count": 5,
   "metadata": {
    "executionInfo": {
     "elapsed": 1238,
     "status": "ok",
     "timestamp": 1620025405954,
     "user": {
      "displayName": "RITIK KUMAR",
      "photoUrl": "",
      "userId": "06709832249065320148"
     },
     "user_tz": -330
    },
    "id": "wZXDAXZF7f5L"
   },
   "outputs": [],
   "source": [
    "model.add(Flatten())\n",
    "model.add(Dense(64,activation='relu'))\n",
    "model.add(Dropout(0.5))\n",
    "model.add(Dense(1,activation='sigmoid'))"
   ]
  },
  {
   "cell_type": "code",
   "execution_count": 6,
   "metadata": {
    "executionInfo": {
     "elapsed": 951,
     "status": "ok",
     "timestamp": 1620025408939,
     "user": {
      "displayName": "RITIK KUMAR",
      "photoUrl": "",
      "userId": "06709832249065320148"
     },
     "user_tz": -330
    },
    "id": "SDUfAoWb8XSd"
   },
   "outputs": [],
   "source": [
    "model.compile(loss=keras.losses.binary_crossentropy,optimizer='adam',metrics=['accuracy'])"
   ]
  },
  {
   "cell_type": "code",
   "execution_count": 7,
   "metadata": {
    "colab": {
     "base_uri": "https://localhost:8080/"
    },
    "executionInfo": {
     "elapsed": 1074,
     "status": "ok",
     "timestamp": 1620025411461,
     "user": {
      "displayName": "RITIK KUMAR",
      "photoUrl": "",
      "userId": "06709832249065320148"
     },
     "user_tz": -330
    },
    "id": "DmXIIe_58tLS",
    "outputId": "f4817d55-8830-4040-cac8-a973ef73e271"
   },
   "outputs": [
    {
     "name": "stdout",
     "output_type": "stream",
     "text": [
      "Model: \"sequential\"\n",
      "_________________________________________________________________\n",
      "Layer (type)                 Output Shape              Param #   \n",
      "=================================================================\n",
      "conv2d (Conv2D)              (None, 222, 222, 32)      896       \n",
      "_________________________________________________________________\n",
      "conv2d_1 (Conv2D)            (None, 220, 220, 64)      18496     \n",
      "_________________________________________________________________\n",
      "max_pooling2d (MaxPooling2D) (None, 110, 110, 64)      0         \n",
      "_________________________________________________________________\n",
      "dropout (Dropout)            (None, 110, 110, 64)      0         \n",
      "_________________________________________________________________\n",
      "conv2d_2 (Conv2D)            (None, 108, 108, 64)      36928     \n",
      "_________________________________________________________________\n",
      "max_pooling2d_1 (MaxPooling2 (None, 54, 54, 64)        0         \n",
      "_________________________________________________________________\n",
      "dropout_1 (Dropout)          (None, 54, 54, 64)        0         \n",
      "_________________________________________________________________\n",
      "conv2d_3 (Conv2D)            (None, 52, 52, 128)       73856     \n",
      "_________________________________________________________________\n",
      "max_pooling2d_2 (MaxPooling2 (None, 26, 26, 128)       0         \n",
      "_________________________________________________________________\n",
      "dropout_2 (Dropout)          (None, 26, 26, 128)       0         \n",
      "_________________________________________________________________\n",
      "flatten (Flatten)            (None, 86528)             0         \n",
      "_________________________________________________________________\n",
      "dense (Dense)                (None, 64)                5537856   \n",
      "_________________________________________________________________\n",
      "dropout_3 (Dropout)          (None, 64)                0         \n",
      "_________________________________________________________________\n",
      "dense_1 (Dense)              (None, 1)                 65        \n",
      "=================================================================\n",
      "Total params: 5,668,097\n",
      "Trainable params: 5,668,097\n",
      "Non-trainable params: 0\n",
      "_________________________________________________________________\n"
     ]
    }
   ],
   "source": [
    "model.summary()"
   ]
  },
  {
   "cell_type": "code",
   "execution_count": 8,
   "metadata": {
    "executionInfo": {
     "elapsed": 1023,
     "status": "ok",
     "timestamp": 1620025417368,
     "user": {
      "displayName": "RITIK KUMAR",
      "photoUrl": "",
      "userId": "06709832249065320148"
     },
     "user_tz": -330
    },
    "id": "y2u7yov98vLa"
   },
   "outputs": [],
   "source": [
    "train_datagen=image.ImageDataGenerator(rescale=1./255,shear_range=0.2,zoom_range=0.2,horizontal_flip=True)\n",
    "test_dataset=image.ImageDataGenerator(rescale=1./255)"
   ]
  },
  {
   "cell_type": "code",
   "execution_count": 9,
   "metadata": {
    "colab": {
     "base_uri": "https://localhost:8080/"
    },
    "executionInfo": {
     "elapsed": 1316,
     "status": "ok",
     "timestamp": 1620025420138,
     "user": {
      "displayName": "RITIK KUMAR",
      "photoUrl": "",
      "userId": "06709832249065320148"
     },
     "user_tz": -330
    },
    "id": "eIMqwK1Y9pNz",
    "outputId": "5f06e01b-737c-45e7-f514-6b825b725bbb"
   },
   "outputs": [
    {
     "name": "stdout",
     "output_type": "stream",
     "text": [
      "Found 224 images belonging to 2 classes.\n"
     ]
    },
    {
     "data": {
      "text/plain": [
       "{'Covid': 0, 'Normal': 1}"
      ]
     },
     "execution_count": 9,
     "metadata": {
      "tags": []
     },
     "output_type": "execute_result"
    }
   ],
   "source": [
    "train_generator=train_datagen.flow_from_directory('CovidDataset/Train',target_size=(224,224),batch_size=32,class_mode='binary')\n",
    "train_generator.class_indices"
   ]
  },
  {
   "cell_type": "code",
   "execution_count": 10,
   "metadata": {
    "colab": {
     "base_uri": "https://localhost:8080/"
    },
    "executionInfo": {
     "elapsed": 908,
     "status": "ok",
     "timestamp": 1620025423121,
     "user": {
      "displayName": "RITIK KUMAR",
      "photoUrl": "",
      "userId": "06709832249065320148"
     },
     "user_tz": -330
    },
    "id": "6UHodQXR-Jru",
    "outputId": "aa465314-c403-4781-e60b-cb980f62283d"
   },
   "outputs": [
    {
     "name": "stdout",
     "output_type": "stream",
     "text": [
      "Found 60 images belonging to 2 classes.\n"
     ]
    }
   ],
   "source": [
    "validation_generator=test_dataset.flow_from_directory('CovidDataset/Val',target_size=(224,224),batch_size=32,class_mode='binary')"
   ]
  },
  {
   "cell_type": "code",
   "execution_count": 14,
   "metadata": {
    "colab": {
     "base_uri": "https://localhost:8080/"
    },
    "executionInfo": {
     "elapsed": 744919,
     "status": "ok",
     "timestamp": 1620026306726,
     "user": {
      "displayName": "RITIK KUMAR",
      "photoUrl": "",
      "userId": "06709832249065320148"
     },
     "user_tz": -330
    },
    "id": "7GE28I8C-xwy",
    "outputId": "55e56b1d-caa5-43be-a843-2e149c1adad1"
   },
   "outputs": [
    {
     "name": "stdout",
     "output_type": "stream",
     "text": [
      "Epoch 1/10\n",
      "7/7 [==============================] - 75s 11s/step - loss: 0.6676 - accuracy: 0.6027 - val_loss: 0.6137 - val_accuracy: 0.6500\n",
      "Epoch 2/10\n",
      "7/7 [==============================] - 72s 10s/step - loss: 0.5236 - accuracy: 0.7143 - val_loss: 0.3938 - val_accuracy: 0.9167\n",
      "Epoch 3/10\n",
      "7/7 [==============================] - 74s 10s/step - loss: 0.4378 - accuracy: 0.7812 - val_loss: 0.3723 - val_accuracy: 0.8667\n",
      "Epoch 4/10\n",
      "7/7 [==============================] - 74s 11s/step - loss: 0.3128 - accuracy: 0.8750 - val_loss: 0.2704 - val_accuracy: 0.9667\n",
      "Epoch 5/10\n",
      "7/7 [==============================] - 75s 11s/step - loss: 0.2512 - accuracy: 0.9196 - val_loss: 0.1486 - val_accuracy: 0.9833\n",
      "Epoch 6/10\n",
      "7/7 [==============================] - 73s 10s/step - loss: 0.2406 - accuracy: 0.8884 - val_loss: 0.5718 - val_accuracy: 0.9333\n",
      "Epoch 7/10\n",
      "7/7 [==============================] - 73s 10s/step - loss: 0.2561 - accuracy: 0.9241 - val_loss: 0.1203 - val_accuracy: 0.9667\n",
      "Epoch 8/10\n",
      "7/7 [==============================] - 76s 11s/step - loss: 0.1658 - accuracy: 0.9509 - val_loss: 0.0775 - val_accuracy: 0.9833\n",
      "Epoch 9/10\n",
      "7/7 [==============================] - 77s 10s/step - loss: 0.1432 - accuracy: 0.9554 - val_loss: 0.0705 - val_accuracy: 0.9833\n",
      "Epoch 10/10\n",
      "7/7 [==============================] - 73s 10s/step - loss: 0.1662 - accuracy: 0.9509 - val_loss: 0.0769 - val_accuracy: 0.9833\n"
     ]
    }
   ],
   "source": [
    "hist=model.fit(train_generator,epochs=10,validation_data=validation_generator)"
   ]
  },
  {
   "cell_type": "code",
   "execution_count": 15,
   "metadata": {
    "colab": {
     "base_uri": "https://localhost:8080/"
    },
    "executionInfo": {
     "elapsed": 24504,
     "status": "ok",
     "timestamp": 1620026421968,
     "user": {
      "displayName": "RITIK KUMAR",
      "photoUrl": "",
      "userId": "06709832249065320148"
     },
     "user_tz": -330
    },
    "id": "2C_1U9QH_SyH",
    "outputId": "f7670e6d-92c4-4cc8-e941-effcc97012d1"
   },
   "outputs": [
    {
     "name": "stderr",
     "output_type": "stream",
     "text": [
      "/usr/local/lib/python3.7/dist-packages/tensorflow/python/keras/engine/training.py:1877: UserWarning: `Model.evaluate_generator` is deprecated and will be removed in a future version. Please use `Model.evaluate`, which supports generators.\n",
      "  warnings.warn('`Model.evaluate_generator` is deprecated and '\n"
     ]
    },
    {
     "data": {
      "text/plain": [
       "[0.11440090090036392, 0.96875]"
      ]
     },
     "execution_count": 15,
     "metadata": {
      "tags": []
     },
     "output_type": "execute_result"
    }
   ],
   "source": [
    "model.evaluate_generator(train_generator)"
   ]
  },
  {
   "cell_type": "code",
   "execution_count": 16,
   "metadata": {
    "colab": {
     "base_uri": "https://localhost:8080/"
    },
    "executionInfo": {
     "elapsed": 7813,
     "status": "ok",
     "timestamp": 1620026436085,
     "user": {
      "displayName": "RITIK KUMAR",
      "photoUrl": "",
      "userId": "06709832249065320148"
     },
     "user_tz": -330
    },
    "id": "i75KAtF_GRK5",
    "outputId": "627539c0-f2a6-49d5-f2b6-c80ab3bad831"
   },
   "outputs": [
    {
     "name": "stderr",
     "output_type": "stream",
     "text": [
      "/usr/local/lib/python3.7/dist-packages/tensorflow/python/keras/engine/training.py:1877: UserWarning: `Model.evaluate_generator` is deprecated and will be removed in a future version. Please use `Model.evaluate`, which supports generators.\n",
      "  warnings.warn('`Model.evaluate_generator` is deprecated and '\n"
     ]
    },
    {
     "data": {
      "text/plain": [
       "[0.07686783373355865, 0.9833333492279053]"
      ]
     },
     "execution_count": 16,
     "metadata": {
      "tags": []
     },
     "output_type": "execute_result"
    }
   ],
   "source": [
    "model.evaluate_generator(validation_generator)"
   ]
  }
 ],
 "metadata": {
  "colab": {
   "authorship_tag": "ABX9TyMiwn2BittDZF0DKSk8Zsbq",
   "collapsed_sections": [],
   "name": "CovidDetectionUsingCNN.ipynb",
   "provenance": []
  },
  "kernelspec": {
   "display_name": "Python 3 (ipykernel)",
   "language": "python",
   "name": "python3"
  },
  "language_info": {
   "codemirror_mode": {
    "name": "ipython",
    "version": 3
   },
   "file_extension": ".py",
   "mimetype": "text/x-python",
   "name": "python",
   "nbconvert_exporter": "python",
   "pygments_lexer": "ipython3",
   "version": "3.9.12"
  }
 },
 "nbformat": 4,
 "nbformat_minor": 1
}
